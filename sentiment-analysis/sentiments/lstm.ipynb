{
 "cells": [
  {
   "cell_type": "code",
   "execution_count": 2,
   "id": "b8d5b7c4",
   "metadata": {},
   "outputs": [
    {
     "name": "stderr",
     "output_type": "stream",
     "text": [
      "Building prefix dict from the default dictionary ...\n",
      "Loading model from cache C:\\Users\\11040\\AppData\\Local\\Temp\\jieba.cache\n",
      "Loading model cost 0.780 seconds.\n",
      "Prefix dict has been built successfully.\n"
     ]
    },
    {
     "data": {
      "text/html": [
       "<div>\n",
       "<style scoped>\n",
       "    .dataframe tbody tr th:only-of-type {\n",
       "        vertical-align: middle;\n",
       "    }\n",
       "\n",
       "    .dataframe tbody tr th {\n",
       "        vertical-align: top;\n",
       "    }\n",
       "\n",
       "    .dataframe thead th {\n",
       "        text-align: right;\n",
       "    }\n",
       "</style>\n",
       "<table border=\"1\" class=\"dataframe\">\n",
       "  <thead>\n",
       "    <tr style=\"text-align: right;\">\n",
       "      <th></th>\n",
       "      <th>words</th>\n",
       "      <th>label</th>\n",
       "    </tr>\n",
       "  </thead>\n",
       "  <tbody>\n",
       "    <tr>\n",
       "      <th>0</th>\n",
       "      <td>原来 人死 后 还要 继续 干 生前 的 活儿 是 真的</td>\n",
       "      <td>1</td>\n",
       "    </tr>\n",
       "    <tr>\n",
       "      <th>1</th>\n",
       "      <td>刘德华 那条 线 有点儿 意思 为 这个 系列 电影 开启 了 新 维度 太长 了 删减 强...</td>\n",
       "      <td>1</td>\n",
       "    </tr>\n",
       "    <tr>\n",
       "      <th>2</th>\n",
       "      <td>不必 对比 什么 作为 里程碑 他 已经 无敌</td>\n",
       "      <td>1</td>\n",
       "    </tr>\n",
       "    <tr>\n",
       "      <th>3</th>\n",
       "      <td>这是 俄罗斯 的 型号 没有 安全 保险 只有 两个 扳机</td>\n",
       "      <td>1</td>\n",
       "    </tr>\n",
       "    <tr>\n",
       "      <th>4</th>\n",
       "      <td>年 看 第一部 的 时候 就 想着 回国 之后 如果 能 在 这样 的 剧组 工作 就 好 ...</td>\n",
       "      <td>1</td>\n",
       "    </tr>\n",
       "  </tbody>\n",
       "</table>\n",
       "</div>"
      ],
      "text/plain": [
       "                                               words label\n",
       "0                       原来 人死 后 还要 继续 干 生前 的 活儿 是 真的     1\n",
       "1  刘德华 那条 线 有点儿 意思 为 这个 系列 电影 开启 了 新 维度 太长 了 删减 强...     1\n",
       "2                            不必 对比 什么 作为 里程碑 他 已经 无敌     1\n",
       "3                      这是 俄罗斯 的 型号 没有 安全 保险 只有 两个 扳机     1\n",
       "4  年 看 第一部 的 时候 就 想着 回国 之后 如果 能 在 这样 的 剧组 工作 就 好 ...     1"
      ]
     },
     "execution_count": 2,
     "metadata": {},
     "output_type": "execute_result"
    }
   ],
   "source": [
    "import myutils\n",
    "from myutils import load_corpus,stopwords\n",
    "\n",
    "\n",
    "TRAIN_PATH = \"C:/Users/11040/Desktop/weibonlp-master/movie/model/train.csv\"\n",
    "TEST_PATH = \"C:/Users/11040/Desktop/weibonlp-master/movie/model/test.csv\"\n",
    "\n",
    "train_data = load_corpus(TRAIN_PATH)\n",
    "test_data = load_corpus(TEST_PATH)\n",
    "\n",
    "import pandas as pd\n",
    "\n",
    "df_train = pd.DataFrame(train_data, columns=[\"words\", \"label\"])\n",
    "df_test = pd.DataFrame(test_data, columns=[\"words\", \"label\"])\n",
    "\n",
    "df_train.head()"
   ]
  },
  {
   "cell_type": "code",
   "execution_count": 3,
   "id": "9437b2b8",
   "metadata": {},
   "outputs": [
    {
     "data": {
      "text/plain": [
       "0             [原来, 人死, 后, 还要, 继续, 干, 生前, 的, 活儿, 是, 真的]\n",
       "1    [刘德华, 那条, 线, 有点儿, 意思, 为, 这个, 系列, 电影, 开启, 了, 新,...\n",
       "2                     [不必, 对比, 什么, 作为, 里程碑, 他, 已经, 无敌]\n",
       "3             [这是, 俄罗斯, 的, 型号, 没有, 安全, 保险, 只有, 两个, 扳机]\n",
       "4    [年, 看, 第一部, 的, 时候, 就, 想着, 回国, 之后, 如果, 能, 在, 这样...\n",
       "Name: words, dtype: object"
      ]
     },
     "execution_count": 3,
     "metadata": {},
     "output_type": "execute_result"
    }
   ],
   "source": [
    "# word2vec要求的输入格式: list(word)\n",
    "wv_input = df_train['words'].map(lambda s: s.split(\" \"))  \n",
    "wv_input.head()          "
   ]
  },
  {
   "cell_type": "code",
   "execution_count": 4,
   "id": "6f863faf",
   "metadata": {},
   "outputs": [],
   "source": [
    "from gensim import models"
   ]
  },
  {
   "cell_type": "code",
   "execution_count": 5,
   "id": "c7849ec8",
   "metadata": {},
   "outputs": [],
   "source": [
    "word2vec = models.Word2Vec(wv_input,\n",
    "                          vector_size = 64,\n",
    "                          min_count = 1,\n",
    "                          epochs =1000)"
   ]
  },
  {
   "cell_type": "code",
   "execution_count": 54,
   "id": "bbba865a",
   "metadata": {},
   "outputs": [
    {
     "data": {
      "text/plain": [
       "[('科幻', 0.6783728003501892),\n",
       " ('科幻片', 0.6240063905715942),\n",
       " ('了', 0.5985647439956665),\n",
       " ('的', 0.5743614435195923),\n",
       " ('是', 0.5600840449333191),\n",
       " ('科幻电影', 0.5403375625610352),\n",
       " ('片子', 0.5037230849266052),\n",
       " ('也', 0.49708935618400574),\n",
       " ('我', 0.4955514073371887),\n",
       " ('作品', 0.4937562644481659)]"
      ]
     },
     "execution_count": 54,
     "metadata": {},
     "output_type": "execute_result"
    }
   ],
   "source": [
    "word2vec.wv.most_similar(\"电影\")"
   ]
  },
  {
   "cell_type": "code",
   "execution_count": 55,
   "id": "05ef1b3d",
   "metadata": {},
   "outputs": [
    {
     "data": {
      "text/plain": [
       "[('抓狂', 0.9487404227256775),\n",
       " ('tanshou', 0.9330409169197083),\n",
       " ('jiayou', 0.912369966506958),\n",
       " ('haha', 0.9112916588783264),\n",
       " ('heiheihei', 0.9071836471557617),\n",
       " ('非杠', 0.9063233137130737),\n",
       " ('没说', 0.9022008776664734),\n",
       " ('xiaoku', 0.8585681915283203),\n",
       " ('bingbujiandan', 0.8550329208374023),\n",
       " ('shangxin', 0.8495885729789734)]"
      ]
     },
     "execution_count": 55,
     "metadata": {},
     "output_type": "execute_result"
    }
   ],
   "source": [
    "word2vec.wv.most_similar(\"伤心\")"
   ]
  },
  {
   "cell_type": "code",
   "execution_count": 22,
   "id": "360cfd6e",
   "metadata": {},
   "outputs": [
    {
     "name": "stdout",
     "output_type": "stream",
     "text": [
      "Collecting torch\n",
      "  Downloading torch-1.13.1-cp310-cp310-win_amd64.whl (162.6 MB)\n",
      "     -------------------------------------- 162.6/162.6 MB 6.3 MB/s eta 0:00:00\n",
      "Requirement already satisfied: typing-extensions in c:\\users\\11040\\appdata\\local\\programs\\python\\python310\\lib\\site-packages (from torch) (4.4.0)\n",
      "Installing collected packages: torch\n",
      "Successfully installed torch-1.13.1\n",
      "Note: you may need to restart the kernel to use updated packages.\n"
     ]
    },
    {
     "name": "stderr",
     "output_type": "stream",
     "text": [
      "\n",
      "[notice] A new release of pip available: 22.3.1 -> 23.0.1\n",
      "[notice] To update, run: python.exe -m pip install --upgrade pip\n"
     ]
    }
   ],
   "source": [
    "pip install torch"
   ]
  },
  {
   "cell_type": "code",
   "execution_count": 6,
   "id": "333a4a1d",
   "metadata": {},
   "outputs": [],
   "source": [
    "import torch\n",
    "from torch import nn\n",
    "from torch.nn.utils.rnn import pad_sequence, pack_padded_sequence,pad_packed_sequence\n",
    "from torch.utils.data import Dataset, DataLoader\n",
    "\n",
    "device = \"cuda:0\" if torch.cuda.is_available() else \"cpu\"\n",
    "\n",
    "# 超参数\n",
    "learning_rate = 5e-4\n",
    "input_size = 768\n",
    "num_epoches = 5\n",
    "batch_size = 100\n",
    "embed_size = 64\n",
    "hidden_size = 64\n",
    "num_layers = 2"
   ]
  },
  {
   "cell_type": "code",
   "execution_count": 7,
   "id": "9171516f",
   "metadata": {},
   "outputs": [
    {
     "name": "stderr",
     "output_type": "stream",
     "text": [
      "C:\\Users\\11040\\AppData\\Local\\Temp\\ipykernel_15352\\253272313.py:13: UserWarning: Creating a tensor from a list of numpy.ndarrays is extremely slow. Please consider converting the list to a single numpy.ndarray with numpy.array() before converting to a tensor. (Triggered internally at ..\\torch\\csrc\\utils\\tensor_new.cpp:233.)\n",
      "  vectors = torch.Tensor(vectors)\n"
     ]
    }
   ],
   "source": [
    "import numpy as np\n",
    "# 数据集\n",
    "class MyDataset(Dataset):\n",
    "    def __init__(self, df):\n",
    "        self.data = []\n",
    "        self.label2 = df[\"label\"].tolist()\n",
    "        self.label = np.array(self.label2,dtype=int) \n",
    "        for s in df[\"words\"].tolist():\n",
    "            vectors = []\n",
    "            for w in s.split(\" \"):\n",
    "                if w in word2vec.wv.key_to_index:\n",
    "                    vectors.append(word2vec.wv[w])   # 将每个词替换为对应的词向量\n",
    "            vectors = torch.Tensor(vectors)\n",
    "            self.data.append(vectors)\n",
    "    \n",
    "    def __getitem__(self, index):\n",
    "        data = self.data[index]\n",
    "        label = self.label[index]\n",
    "        return data, label\n",
    "\n",
    "    def __len__(self):\n",
    "        return len(self.label)\n",
    "\n",
    "def collate_fn(data):\n",
    "    \"\"\"\n",
    "    :param data: 第0维：data，第1维：label\n",
    "    :return: 序列化的data、记录实际长度的序列、以及label列表\n",
    "    \"\"\"\n",
    "    data.sort(key=lambda x: len(x[0]), reverse=True) # pack_padded_sequence要求要按照序列的长度倒序排列\n",
    "    data_length = [len(sq[0]) for sq in data]\n",
    "    x = [i[0] for i in data]\n",
    "    y = [i[1] for i in data]\n",
    "    data = pad_sequence(x, batch_first=True, padding_value=0)   # 用RNN处理变长序列的必要操作\n",
    "    return data, torch.tensor(y, dtype=torch.float32), data_length\n",
    "\n",
    "\n",
    "# 训练集\n",
    "train_data = MyDataset(df_train)\n",
    "train_loader = DataLoader(train_data, batch_size=batch_size, collate_fn=collate_fn, shuffle=True)\n",
    "\n",
    "# 测试集\n",
    "test_data = MyDataset(df_test)\n",
    "test_loader = DataLoader(test_data, batch_size=batch_size, collate_fn=collate_fn, shuffle=True)"
   ]
  },
  {
   "cell_type": "code",
   "execution_count": 8,
   "id": "1d60c700",
   "metadata": {},
   "outputs": [],
   "source": [
    "# 网络结构\n",
    "class LSTM(nn.Module):\n",
    "    def __init__(self, input_size, hidden_size, num_layers):\n",
    "        super(LSTM, self).__init__()\n",
    "        self.hidden_size = hidden_size\n",
    "        self.num_layers = num_layers\n",
    "        self.lstm = nn.LSTM(input_size, hidden_size, num_layers, batch_first=True, bidirectional=True)\n",
    "        self.fc = nn.Linear(hidden_size * 2, 1)  # 双向, 输出维度要*2\n",
    "        self.sigmoid = nn.Sigmoid()\n",
    "\n",
    "    def forward(self, x, lengths):\n",
    "        h0 = torch.zeros(self.num_layers * 2, x.size(0), self.hidden_size).to(device)  # 双向, 第一个维度要*2\n",
    "        c0 = torch.zeros(self.num_layers * 2, x.size(0), self.hidden_size).to(device)\n",
    "        \n",
    "        packed_input = torch.nn.utils.rnn.pack_padded_sequence(input=x, lengths=lengths, batch_first=True)\n",
    "        packed_out, (h_n, h_c) = self.lstm(packed_input, (h0, c0))\n",
    "\n",
    "        lstm_out = torch.cat([h_n[-2], h_n[-1]], 1)  # 双向, 所以要将最后两维拼接, 得到的就是最后一个time step的输出\n",
    "        out = self.fc(lstm_out)\n",
    "        out = self.sigmoid(out)\n",
    "        return out\n",
    "\n",
    "lstm = LSTM(embed_size, hidden_size, num_layers)"
   ]
  },
  {
   "cell_type": "code",
   "execution_count": 9,
   "id": "81a41688",
   "metadata": {},
   "outputs": [
    {
     "name": "stdout",
     "output_type": "stream",
     "text": [
      "epoch:1, step:10, loss:0.6848745346069336\n",
      "epoch:1, step:20, loss:0.6560856103897095\n",
      "              precision    recall  f1-score   support\n",
      "\n",
      "         0.0       0.00      0.00      0.00        69\n",
      "         1.0       0.65      0.99      0.79       131\n",
      "\n",
      "    accuracy                           0.65       200\n",
      "   macro avg       0.33      0.50      0.39       200\n",
      "weighted avg       0.43      0.65      0.52       200\n",
      "\n",
      "准确率: 0.65\n",
      "AUC: 0.6552162849872774\n",
      "saved model:  C:/Users/11040/Desktop/weibonlp-master/sentiments/model/lstm_1.model\n",
      "epoch:2, step:10, loss:0.6238754987716675\n",
      "epoch:2, step:20, loss:0.6135467886924744\n",
      "              precision    recall  f1-score   support\n",
      "\n",
      "         0.0       1.00      0.03      0.06        69\n",
      "         1.0       0.66      1.00      0.80       131\n",
      "\n",
      "    accuracy                           0.67       200\n",
      "   macro avg       0.83      0.51      0.43       200\n",
      "weighted avg       0.78      0.67      0.54       200\n",
      "\n",
      "准确率: 0.665\n",
      "AUC: 0.7511339749972342\n",
      "saved model:  C:/Users/11040/Desktop/weibonlp-master/sentiments/model/lstm_2.model\n",
      "epoch:3, step:10, loss:0.5807081460952759\n",
      "epoch:3, step:20, loss:0.5680990815162659\n",
      "              precision    recall  f1-score   support\n",
      "\n",
      "         0.0       1.00      0.14      0.25        69\n",
      "         1.0       0.69      1.00      0.82       131\n",
      "\n",
      "    accuracy                           0.70       200\n",
      "   macro avg       0.84      0.57      0.53       200\n",
      "weighted avg       0.80      0.70      0.62       200\n",
      "\n",
      "准确率: 0.705\n",
      "AUC: 0.7937271822104215\n",
      "saved model:  C:/Users/11040/Desktop/weibonlp-master/sentiments/model/lstm_3.model\n",
      "epoch:4, step:10, loss:0.4826539158821106\n",
      "epoch:4, step:20, loss:0.5218141674995422\n",
      "              precision    recall  f1-score   support\n",
      "\n",
      "         0.0       0.82      0.41      0.54        69\n",
      "         1.0       0.75      0.95      0.84       131\n",
      "\n",
      "    accuracy                           0.77       200\n",
      "   macro avg       0.79      0.68      0.69       200\n",
      "weighted avg       0.78      0.77      0.74       200\n",
      "\n",
      "准确率: 0.765\n",
      "AUC: 0.8365416528377032\n",
      "saved model:  C:/Users/11040/Desktop/weibonlp-master/sentiments/model/lstm_4.model\n",
      "epoch:5, step:10, loss:0.4440646767616272\n",
      "epoch:5, step:20, loss:0.4457719922065735\n",
      "              precision    recall  f1-score   support\n",
      "\n",
      "         0.0       0.81      0.43      0.57        69\n",
      "         1.0       0.76      0.95      0.84       131\n",
      "\n",
      "    accuracy                           0.77       200\n",
      "   macro avg       0.79      0.69      0.70       200\n",
      "weighted avg       0.78      0.77      0.75       200\n",
      "\n",
      "准确率: 0.77\n",
      "AUC: 0.8354353357672308\n",
      "saved model:  C:/Users/11040/Desktop/weibonlp-master/sentiments/model/lstm_5.model\n"
     ]
    }
   ],
   "source": [
    "from sklearn import metrics\n",
    "\n",
    "# 在测试集效果检验\n",
    "def test():\n",
    "    y_pred, y_true = [], []\n",
    "\n",
    "    with torch.no_grad():\n",
    "        for x, labels, lengths in test_loader:\n",
    "            x = x.to(device)\n",
    "            outputs = lstm(x, lengths)          # 前向传播\n",
    "            outputs = outputs.view(-1)          # 将输出展平\n",
    "            y_pred.append(outputs)\n",
    "            y_true.append(labels)\n",
    "\n",
    "    y_prob = torch.cat(y_pred)\n",
    "    y_true = torch.cat(y_true)\n",
    "    y_pred = y_prob.clone()\n",
    "    y_pred[y_pred > 0.5] = 1\n",
    "    y_pred[y_pred <= 0.5] = 0\n",
    "    \n",
    "    print(metrics.classification_report(y_true, y_pred))\n",
    "    print(\"准确率:\", metrics.accuracy_score(y_true, y_pred))\n",
    "    print(\"AUC:\", metrics.roc_auc_score(y_true, y_prob) )\n",
    "\n",
    "# 定义损失函数和优化器\n",
    "criterion = nn.BCELoss()\n",
    "optimizer = torch.optim.Adam(lstm.parameters(), lr=learning_rate)\n",
    "\n",
    "# 迭代训练\n",
    "for epoch in range(num_epoches):\n",
    "    total_loss = 0\n",
    "    for i, (x, labels, lengths) in enumerate(train_loader):\n",
    "        x = x.to(device)\n",
    "        labels = labels.to(device)\n",
    "        outputs = lstm(x, lengths)          # 前向传播\n",
    "        logits = outputs.view(-1)           # 将输出展平\n",
    "        loss = criterion(logits, labels)    # loss计算\n",
    "        total_loss += loss\n",
    "        optimizer.zero_grad()               # 梯度清零\n",
    "        loss.backward(retain_graph=True)    # 反向传播，计算梯度\n",
    "        optimizer.step()                    # 梯度更新\n",
    "        if (i+1) % 10 == 0:\n",
    "            print(\"epoch:{}, step:{}, loss:{}\".format(epoch+1, i+1, total_loss/10))\n",
    "            total_loss = 0\n",
    "    \n",
    "    # 测试集效果检验\n",
    "    test()\n",
    "    \n",
    "    model_path = \"C:/Users/11040/Desktop/weibonlp-master/sentiments/model/lstm_{}.model\".format(epoch+1)\n",
    "    torch.save(lstm, model_path)\n",
    "    print(\"saved model: \", model_path)"
   ]
  },
  {
   "cell_type": "code",
   "execution_count": 49,
   "id": "cacfffed",
   "metadata": {},
   "outputs": [
    {
     "name": "stdout",
     "output_type": "stream",
     "text": [
      "Requirement already satisfied: numpy in c:\\users\\11040\\appdata\\local\\programs\\python\\python310\\lib\\site-packages (1.24.2)\n",
      "Note: you may need to restart the kernel to use updated packages.\n"
     ]
    },
    {
     "name": "stderr",
     "output_type": "stream",
     "text": [
      "\n",
      "[notice] A new release of pip available: 22.3.1 -> 23.0.1\n",
      "[notice] To update, run: python.exe -m pip install --upgrade pip\n"
     ]
    }
   ],
   "source": [
    "pip install --upgrade numpy"
   ]
  },
  {
   "cell_type": "code",
   "execution_count": 15,
   "id": "914c0017",
   "metadata": {},
   "outputs": [
    {
     "name": "stdout",
     "output_type": "stream",
     "text": [
      "tensor([0.2515, 0.9509])\n"
     ]
    }
   ],
   "source": [
    "net = torch.load(\"C:/Users/11040/Desktop/weibonlp-master/sentiments/model/lstm_5.model\") \n",
    "\n",
    "from myutils import processing\n",
    "\n",
    "strs = [\"看吐了 难看爆了\", \"真牛逼！中国电影工业！\"]\n",
    "\n",
    "data = []\n",
    "for s in strs:\n",
    "    vectors = []\n",
    "    for w in processing(s).split(\" \"):\n",
    "        if w in word2vec.wv.key_to_index:\n",
    "            vectors.append(word2vec.wv[w])   # 将每个词替换为对应的词向量\n",
    "    vectors = torch.Tensor(vectors)\n",
    "    data.append(vectors)\n",
    "x, _, lengths = collate_fn(list(zip(data, [-1] * len(strs))))\n",
    "with torch.no_grad():\n",
    "    x = x.to(device)\n",
    "    outputs = lstm(x, lengths)          # 前向传播\n",
    "    outputs = outputs.view(-1)          # 将输出展平\n",
    "print(outputs)"
   ]
  },
  {
   "cell_type": "code",
   "execution_count": null,
   "id": "eb01d850",
   "metadata": {},
   "outputs": [],
   "source": []
  }
 ],
 "metadata": {
  "kernelspec": {
   "display_name": "Python 3 (ipykernel)",
   "language": "python",
   "name": "python3"
  },
  "language_info": {
   "codemirror_mode": {
    "name": "ipython",
    "version": 3
   },
   "file_extension": ".py",
   "mimetype": "text/x-python",
   "name": "python",
   "nbconvert_exporter": "python",
   "pygments_lexer": "ipython3",
   "version": "3.10.2"
  }
 },
 "nbformat": 4,
 "nbformat_minor": 5
}
