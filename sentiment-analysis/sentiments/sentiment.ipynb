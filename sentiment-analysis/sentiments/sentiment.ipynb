{
 "cells": [
  {
   "cell_type": "code",
   "execution_count": 6,
   "id": "9daa3349",
   "metadata": {},
   "outputs": [
    {
     "name": "stdout",
     "output_type": "stream",
     "text": [
      "4264\n",
      "15360\n"
     ]
    },
    {
     "data": {
      "image/png": "[encoded data removed]",
      "text/plain": [
       "<Figure size 432x288 with 1 Axes>"
      ]
     },
     "metadata": {},
     "output_type": "display_data"
    }
   ],
   "source": [
    "import sys\n",
    "import snownlp\n",
    "from snownlp import sentiment\n",
    "import numpy as np\n",
    "from snownlp import SnowNLP\n",
    "#from snownlp.sentiment import Sentiment\n",
    "import matplotlib.pyplot as plt\n",
    "plt.rcParams['font.sans-serif']=['SimHei']\n",
    "\n",
    "comment = []\n",
    "pos_count = 0\n",
    "neg_count = 0\n",
    "\n",
    "for line_data in open(\"C:/Users/11040/Desktop/weibonlp-master/data/0219/keyword.dat\"):\n",
    "    \n",
    "    comment = line_data.split()\n",
    "    for word in comment:\n",
    "        \n",
    "        s = SnowNLP(word)\n",
    "        rates = s.sentiments  \n",
    "        \n",
    "        if (rates >= 0.5):\n",
    "            pos_count += 1\n",
    "\n",
    "        elif (rates < 0.5):\n",
    "            neg_count += 1\n",
    "    \n",
    "        else :\n",
    "            pass\n",
    "\n",
    "labels = '正面', '负面'\n",
    "fracs = [pos_count,neg_count]\n",
    "print(pos_count)\n",
    "print(neg_count)\n",
    "explode = [0.1,0] # 0.1 凸出这部分，\n",
    "plt.axes(aspect=1)  # set this , Figure is round, otherwise it is an ellipse\n",
    "#autopct ，show percet\n",
    "\n",
    "plt.pie(x=fracs, labels=labels, explode=(0,0.1),autopct='%0.2f %%',\n",
    "        shadow=True, colors=[\"orangered\", \"sandybrown\"],labeldistance=1.1, startangle = 90,pctdistance = 0.4)\n",
    "plt.title('情感统计')\n",
    "plt.savefig(\"C:/Users/11040/Desktop/weibonlp-master/data/0219/piechart.jpg\",dpi = 360)\n",
    "plt.show()\n",
    "\n",
    "\n",
    "\n"
   ]
  },
  {
   "cell_type": "code",
   "execution_count": null,
   "id": "1760ab68",
   "metadata": {},
   "outputs": [],
   "source": []
  }
 ],
 "metadata": {
  "kernelspec": {
   "display_name": "Python 3 (ipykernel)",
   "language": "python",
   "name": "python3"
  },
  "language_info": {
   "codemirror_mode": {
    "name": "ipython",
    "version": 3
   },
   "file_extension": ".py",
   "mimetype": "text/x-python",
   "name": "python",
   "nbconvert_exporter": "python",
   "pygments_lexer": "ipython3",
   "version": "3.10.2"
  }
 },
 "nbformat": 4,
 "nbformat_minor": 5
}
