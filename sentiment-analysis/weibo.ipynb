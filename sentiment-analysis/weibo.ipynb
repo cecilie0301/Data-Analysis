{
 "cells": [
  {
   "cell_type": "code",
   "execution_count": null,
   "id": "50d2de35",
   "metadata": {},
   "outputs": [],
   "source": [
    "import requests\n",
    "import socket\n",
    "import csv \n",
    "import time  #防止被微博识别爬虫\n",
    "f = open(\"C:/Users/11040/Desktop/weibonlp-master/test3.csv\",mode ='w',newline='',encoding='utf-8')\n",
    "csv_writer = csv.DictWriter(f,fieldnames=[\n",
    "    '用户id',\n",
    "    '用户',\n",
    "    '评论日期',\n",
    "    '评论内容'\n",
    "]) #创建表头\n",
    "\n",
    "headers = {\n",
    "    \"cookie\": \"SINAGLOBAL=7965013818013.676.1649700340466; wvr=6; ariaReadtype=1; ariaMouseten=null; ariaStatus=false; UOR=,,www.jianshu.com; SUBP=0033WrSXqPxfM725Ws9jqgMF55529P9D9WWpu2s9qRPkAAYFnxyU0Wjh5JpX5KMhUgL.FoMXSo-pShzpeK52dJLoI7fDdgL0MNxaINUyUc8V; ALF=1677654563; SSOLoginState=1675062565; SCF=AhUTkk9glT0K_mck-jT4zZNRdD0Ww1vBQkd9-YmxbKYmnQSz3matkQ7z67pk7-DR0cXkf3Y6pZTq-bZWDuMYop4.; SUB=_2A25O0x12DeRhGeFK7VcQ9CzNyjyIHXVtqQm-rDV8PUNbmtANLVbtkW9NQyTLdWsVc_e3qHXgPMEmU1-gEYUlFii9; XSRF-TOKEN=-RU0i5A4jeBKta5MI2AShVX4; _s_tentry=weibo.com; Apache=4327537587425.971.1675064694498; ULV=1675064694727:14:9:1:4327537587425.971.1675064694498:1674882208754; WBPSESS=fuY7VjznbaBgyBNgwqCTmqJi8fJUEUmKN_DFnLKoF9tQ0Jm_1H9ZbBN3ycTUuFc-j-6IcgRI6MFQaz-W3dJlrjHK0mmc9zEuMzyR0SBGvCs0sTwZx1weoJqN6lQp7K6tLKC7vLniHYKzM_tbEVoW3A==\",\n",
    "    \"referer\": \"https://weibo.com/1671109627/MpvECcM7y\",\n",
    "    \"user-agent\": \"Mozilla/5.0 (Windows NT 10.0; Win64; x64) AppleWebKit/537.36 (KHTML, like Gecko) Chrome/109.0.0.0 Safari/537.36\",\n",
    "    \"x-requested-with\": \"XMLHttpRequest\"\n",
    "}\n",
    "\n",
    "mid =\"\"   \n",
    "while True: \n",
    "    if mid == \"\":\n",
    "        n_url = 'https://weibo.com/ajax/statuses/buildComments?is_reload=1&id=4860798823044916&is_show_bulletin=2&is_mix=0&count=10&uid=1671109627'\n",
    "    \n",
    "    elif mid ==0: \n",
    "        break\n",
    "    else:\n",
    "        n_url =\"https://weibo.com/ajax/statuses/buildComments?flow=0&is_reload=1&id=4860798823044916&is_show_bulletin=2&is_mix=0&max_id=\"+str(mid)+\"&count=10&uid=1671109627\"\n",
    "    resp = requests.get(url=n_url, headers=headers)\n",
    "    datas = resp.json()['data']\n",
    "    print(datas)\n",
    "    mid = resp.json()['max_id']\n",
    "    print(mid)\n",
    "    socket.setdefaulttimeout(1)\n",
    "    time.sleep(0.66)\n",
    "\n",
    "    for data in datas:\n",
    "        dit = {\n",
    "            '用户id': data['user']['id'],\n",
    "            '用户': data['user']['screen_name'],\n",
    "            '评论日期': data['created_at'],\n",
    "            '评论内容': data['text_raw']\n",
    "         }\n",
    "        csv_writer.writerow(dit)"
   ]
  },
  {
   "cell_type": "code",
   "execution_count": null,
   "id": "7462b872",
   "metadata": {},
   "outputs": [],
   "source": []
  }
 ],
 "metadata": {
  "kernelspec": {
   "display_name": "Python 3 (ipykernel)",
   "language": "python",
   "name": "python3"
  },
  "language_info": {
   "codemirror_mode": {
    "name": "ipython",
    "version": 3
   },
   "file_extension": ".py",
   "mimetype": "text/x-python",
   "name": "python",
   "nbconvert_exporter": "python",
   "pygments_lexer": "ipython3",
   "version": "3.10.2"
  }
 },
 "nbformat": 4,
 "nbformat_minor": 5
}
