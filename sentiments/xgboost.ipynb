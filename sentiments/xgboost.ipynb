{
 "cells": [
  {
   "cell_type": "code",
   "execution_count": 2,
   "id": "b00e4399",
   "metadata": {},
   "outputs": [
    {
     "name": "stdout",
     "output_type": "stream",
     "text": [
      "Collecting xgboost\n",
      "  Downloading xgboost-1.7.4-py3-none-win_amd64.whl (89.1 MB)\n",
      "     ---------------------------------------- 89.1/89.1 MB 7.6 MB/s eta 0:00:00\n",
      "Requirement already satisfied: scipy in c:\\users\\11040\\appdata\\local\\programs\\python\\python310\\lib\\site-packages (from xgboost) (1.8.1)\n",
      "Requirement already satisfied: numpy in c:\\users\\11040\\appdata\\local\\programs\\python\\python310\\lib\\site-packages (from xgboost) (1.22.3)\n",
      "Installing collected packages: xgboost\n",
      "Successfully installed xgboost-1.7.4\n",
      "Note: you may need to restart the kernel to use updated packages.\n"
     ]
    },
    {
     "name": "stderr",
     "output_type": "stream",
     "text": [
      "\n",
      "[notice] A new release of pip available: 22.3.1 -> 23.0.1\n",
      "[notice] To update, run: python.exe -m pip install --upgrade pip\n"
     ]
    }
   ],
   "source": [
    "pip install xgboost"
   ]
  },
  {
   "cell_type": "code",
   "execution_count": 1,
   "id": "1031984a",
   "metadata": {},
   "outputs": [
    {
     "name": "stderr",
     "output_type": "stream",
     "text": [
      "Building prefix dict from the default dictionary ...\n",
      "Loading model from cache C:\\Users\\11040\\AppData\\Local\\Temp\\jieba.cache\n",
      "Loading model cost 0.757 seconds.\n",
      "Prefix dict has been built successfully.\n"
     ]
    },
    {
     "data": {
      "text/html": [
       "<div>\n",
       "<style scoped>\n",
       "    .dataframe tbody tr th:only-of-type {\n",
       "        vertical-align: middle;\n",
       "    }\n",
       "\n",
       "    .dataframe tbody tr th {\n",
       "        vertical-align: top;\n",
       "    }\n",
       "\n",
       "    .dataframe thead th {\n",
       "        text-align: right;\n",
       "    }\n",
       "</style>\n",
       "<table border=\"1\" class=\"dataframe\">\n",
       "  <thead>\n",
       "    <tr style=\"text-align: right;\">\n",
       "      <th></th>\n",
       "      <th>words</th>\n",
       "      <th>label</th>\n",
       "    </tr>\n",
       "  </thead>\n",
       "  <tbody>\n",
       "    <tr>\n",
       "      <th>0</th>\n",
       "      <td>原来 人死 后 还要 继续 干 生前 的 活儿 是 真的</td>\n",
       "      <td>1</td>\n",
       "    </tr>\n",
       "    <tr>\n",
       "      <th>1</th>\n",
       "      <td>刘德华 那条 线 有点儿 意思 为 这个 系列 电影 开启 了 新 维度 太长 了 删减 强...</td>\n",
       "      <td>1</td>\n",
       "    </tr>\n",
       "    <tr>\n",
       "      <th>2</th>\n",
       "      <td>不必 对比 什么 作为 里程碑 他 已经 无敌</td>\n",
       "      <td>1</td>\n",
       "    </tr>\n",
       "    <tr>\n",
       "      <th>3</th>\n",
       "      <td>这是 俄罗斯 的 型号 没有 安全 保险 只有 两个 扳机</td>\n",
       "      <td>1</td>\n",
       "    </tr>\n",
       "    <tr>\n",
       "      <th>4</th>\n",
       "      <td>年 看 第一部 的 时候 就 想着 回国 之后 如果 能 在 这样 的 剧组 工作 就 好 ...</td>\n",
       "      <td>1</td>\n",
       "    </tr>\n",
       "  </tbody>\n",
       "</table>\n",
       "</div>"
      ],
      "text/plain": [
       "                                               words label\n",
       "0                       原来 人死 后 还要 继续 干 生前 的 活儿 是 真的     1\n",
       "1  刘德华 那条 线 有点儿 意思 为 这个 系列 电影 开启 了 新 维度 太长 了 删减 强...     1\n",
       "2                            不必 对比 什么 作为 里程碑 他 已经 无敌     1\n",
       "3                      这是 俄罗斯 的 型号 没有 安全 保险 只有 两个 扳机     1\n",
       "4  年 看 第一部 的 时候 就 想着 回国 之后 如果 能 在 这样 的 剧组 工作 就 好 ...     1"
      ]
     },
     "execution_count": 1,
     "metadata": {},
     "output_type": "execute_result"
    }
   ],
   "source": [
    "import myutils\n",
    "from myutils import load_corpus,stopwords\n",
    "\n",
    "\n",
    "TRAIN_PATH = \"C:/Users/11040/Desktop/weibonlp-master/movie/model/train.csv\"\n",
    "TEST_PATH = \"C:/Users/11040/Desktop/weibonlp-master/movie/model/test.csv\"\n",
    "\n",
    "train_data = load_corpus(TRAIN_PATH)\n",
    "test_data = load_corpus(TEST_PATH)\n",
    "\n",
    "import pandas as pd\n",
    "\n",
    "df_train = pd.DataFrame(train_data, columns=[\"words\", \"label\"])\n",
    "df_test = pd.DataFrame(test_data, columns=[\"words\", \"label\"])\n",
    "\n",
    "df_train.head()"
   ]
  },
  {
   "cell_type": "code",
   "execution_count": 3,
   "id": "7d695855",
   "metadata": {},
   "outputs": [
    {
     "name": "stderr",
     "output_type": "stream",
     "text": [
      "C:\\Users\\11040\\AppData\\Local\\Programs\\Python\\Python310\\Lib\\site-packages\\sklearn\\feature_extraction\\text.py:404: UserWarning: Your stop_words may be inconsistent with your preprocessing. Tokenizing the stop words generated tokens ['元', '吨', '数', '末'] not in stop_words.\n",
      "  warnings.warn(\n"
     ]
    }
   ],
   "source": [
    "from sklearn.feature_extraction.text import CountVectorizer\n",
    "\n",
    "vectorizer = CountVectorizer(token_pattern='\\[?\\w+\\]?', \n",
    "                             stop_words=stopwords,\n",
    "                             max_features=2000)\n",
    "\n",
    "X_train = vectorizer.fit_transform(df_train[\"words\"])\n",
    "y_train = df_train[\"label\"]\n",
    "X_test = vectorizer.transform(df_test[\"words\"])\n",
    "y_test = df_test[\"label\"]"
   ]
  },
  {
   "cell_type": "code",
   "execution_count": 69,
   "id": "34a15aac",
   "metadata": {},
   "outputs": [],
   "source": [
    "import xgboost as xgb\n",
    "\n",
    "param = {\n",
    "    'booster':'gbtree',\n",
    "    'learning_rate':0.6,\n",
    "    'max_depth': 9, \n",
    "    'min_child_weight':1,\n",
    "    'gamma':0.2,\n",
    "    'subsample':0.9,\n",
    "    'scale_pos_weight': 0.6,\n",
    "    'colsample_bytree': 0.8,\n",
    "    'objective': 'binary:logistic',\n",
    "    'eval_metric': 'error',\n",
    "    'eta': 0.3,\n",
    "    'nthread': 10,\n",
    "}\n",
    "dmatrix = xgb.DMatrix(X_train, label=y_train)\n",
    "model = xgb.train(param, dmatrix, num_boost_round=200)"
   ]
  },
  {
   "cell_type": "code",
   "execution_count": 70,
   "id": "045a3d55",
   "metadata": {},
   "outputs": [
    {
     "name": "stdout",
     "output_type": "stream",
     "text": [
      "              precision    recall  f1-score   support\n",
      "\n",
      "           0       0.80      0.51      0.62        69\n",
      "           1       0.78      0.93      0.85       131\n",
      "\n",
      "    accuracy                           0.79       200\n",
      "   macro avg       0.79      0.72      0.73       200\n",
      "weighted avg       0.79      0.79      0.77       200\n",
      "\n",
      "准确率: 0.785\n",
      "AUC: 0.8027436663347716\n"
     ]
    }
   ],
   "source": [
    "dmatrix = xgb.DMatrix(X_test)\n",
    "y_pred = model.predict(dmatrix)\n",
    "\n",
    "from sklearn import metrics\n",
    "\n",
    "auc_score = metrics.roc_auc_score(y_test, y_pred)          \n",
    "y_pred = list(map(lambda x:'1' if x > 0.5 else '0', y_pred))  \n",
    "\n",
    "# 测试集效果检验\n",
    "print(metrics.classification_report(y_test, y_pred))\n",
    "print(\"准确率:\", metrics.accuracy_score(y_test, y_pred))\n",
    "print(\"AUC:\", auc_score)"
   ]
  },
  {
   "cell_type": "code",
   "execution_count": 78,
   "id": "cc81a6ac",
   "metadata": {},
   "outputs": [
    {
     "name": "stdout",
     "output_type": "stream",
     "text": [
      "[0.03304209 0.857257  ]\n"
     ]
    }
   ],
   "source": [
    "from myutils import processing\n",
    "\n",
    "strs = [\"看吐了 难看爆了\", \"特效真绝！太空电梯好酷炫！\"]\n",
    "words = [processing(s) for s in strs]\n",
    "vec = vectorizer.transform(words)\n",
    "dmatrix = xgb.DMatrix(vec)\n",
    "output = model.predict(dmatrix)\n",
    "print(output)"
   ]
  },
  {
   "cell_type": "code",
   "execution_count": null,
   "id": "e69c488b",
   "metadata": {},
   "outputs": [],
   "source": []
  }
 ],
 "metadata": {
  "kernelspec": {
   "display_name": "Python 3 (ipykernel)",
   "language": "python",
   "name": "python3"
  },
  "language_info": {
   "codemirror_mode": {
    "name": "ipython",
    "version": 3
   },
   "file_extension": ".py",
   "mimetype": "text/x-python",
   "name": "python",
   "nbconvert_exporter": "python",
   "pygments_lexer": "ipython3",
   "version": "3.10.2"
  }
 },
 "nbformat": 4,
 "nbformat_minor": 5
}
